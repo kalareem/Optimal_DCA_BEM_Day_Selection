{
 "cells": [
  {
   "cell_type": "markdown",
   "id": "7cfc6d50",
   "metadata": {},
   "source": [
    "# Optimizing Dollar-Cost Averaging (DCA) for BEM Stock: Unveiling the Best Day to Invest"
   ]
  },
  {
   "cell_type": "markdown",
   "id": "bd419046",
   "metadata": {},
   "source": [
    "### 1. Average price group-by Month"
   ]
  },
  {
   "cell_type": "code",
   "execution_count": 45,
   "id": "749c6476",
   "metadata": {},
   "outputs": [],
   "source": [
    "import pandas as pd\n",
    "import numpy as np\n",
    "import matplotlib.pyplot as plt"
   ]
  },
  {
   "cell_type": "code",
   "execution_count": 46,
   "id": "f52d8766",
   "metadata": {},
   "outputs": [],
   "source": [
    "# Load the dataset into a pandas DataFrame\n",
    "df = pd.read_csv('ราคาย้อนหลัง หุ้น BEM.csv')  # Update 'your_dataset_path.csv' with your file path\n"
   ]
  },
  {
   "cell_type": "code",
   "execution_count": 47,
   "id": "2ebac9f0",
   "metadata": {},
   "outputs": [
    {
     "data": {
      "text/html": [
       "<div>\n",
       "<style scoped>\n",
       "    .dataframe tbody tr th:only-of-type {\n",
       "        vertical-align: middle;\n",
       "    }\n",
       "\n",
       "    .dataframe tbody tr th {\n",
       "        vertical-align: top;\n",
       "    }\n",
       "\n",
       "    .dataframe thead th {\n",
       "        text-align: right;\n",
       "    }\n",
       "</style>\n",
       "<table border=\"1\" class=\"dataframe\">\n",
       "  <thead>\n",
       "    <tr style=\"text-align: right;\">\n",
       "      <th></th>\n",
       "      <th>วันเดือนปี</th>\n",
       "      <th>ล่าสุด</th>\n",
       "      <th>ราคาเปิด</th>\n",
       "      <th>สูงสุด</th>\n",
       "      <th>ต่ำสุด</th>\n",
       "      <th>ปริมาณ</th>\n",
       "      <th>% เปลี่ยน</th>\n",
       "    </tr>\n",
       "  </thead>\n",
       "  <tbody>\n",
       "    <tr>\n",
       "      <th>0</th>\n",
       "      <td>1/10/2024</td>\n",
       "      <td>8.10</td>\n",
       "      <td>8.00</td>\n",
       "      <td>8.10</td>\n",
       "      <td>7.90</td>\n",
       "      <td>16.41M</td>\n",
       "      <td>1.89%</td>\n",
       "    </tr>\n",
       "    <tr>\n",
       "      <th>1</th>\n",
       "      <td>1/9/2024</td>\n",
       "      <td>7.95</td>\n",
       "      <td>8.05</td>\n",
       "      <td>8.05</td>\n",
       "      <td>7.95</td>\n",
       "      <td>6.27M</td>\n",
       "      <td>-0.63%</td>\n",
       "    </tr>\n",
       "    <tr>\n",
       "      <th>2</th>\n",
       "      <td>1/8/2024</td>\n",
       "      <td>8.00</td>\n",
       "      <td>8.00</td>\n",
       "      <td>8.05</td>\n",
       "      <td>7.95</td>\n",
       "      <td>19.62M</td>\n",
       "      <td>-0.62%</td>\n",
       "    </tr>\n",
       "    <tr>\n",
       "      <th>3</th>\n",
       "      <td>1/5/2024</td>\n",
       "      <td>8.05</td>\n",
       "      <td>8.15</td>\n",
       "      <td>8.20</td>\n",
       "      <td>8.05</td>\n",
       "      <td>29.78M</td>\n",
       "      <td>-1.23%</td>\n",
       "    </tr>\n",
       "    <tr>\n",
       "      <th>4</th>\n",
       "      <td>1/4/2024</td>\n",
       "      <td>8.15</td>\n",
       "      <td>8.00</td>\n",
       "      <td>8.15</td>\n",
       "      <td>8.00</td>\n",
       "      <td>20.93M</td>\n",
       "      <td>1.24%</td>\n",
       "    </tr>\n",
       "  </tbody>\n",
       "</table>\n",
       "</div>"
      ],
      "text/plain": [
       "  วันเดือนปี  ล่าสุด  ราคาเปิด  สูงสุด  ต่ำสุด  ปริมาณ % เปลี่ยน\n",
       "0  1/10/2024    8.10      8.00    8.10    7.90  16.41M     1.89%\n",
       "1   1/9/2024    7.95      8.05    8.05    7.95   6.27M    -0.63%\n",
       "2   1/8/2024    8.00      8.00    8.05    7.95  19.62M    -0.62%\n",
       "3   1/5/2024    8.05      8.15    8.20    8.05  29.78M    -1.23%\n",
       "4   1/4/2024    8.15      8.00    8.15    8.00  20.93M     1.24%"
      ]
     },
     "execution_count": 47,
     "metadata": {},
     "output_type": "execute_result"
    }
   ],
   "source": [
    "df.head()"
   ]
  },
  {
   "cell_type": "code",
   "execution_count": 48,
   "id": "ebc2e7f5",
   "metadata": {},
   "outputs": [
    {
     "name": "stdout",
     "output_type": "stream",
     "text": [
      "<class 'pandas.core.frame.DataFrame'>\n",
      "RangeIndex: 968 entries, 0 to 967\n",
      "Data columns (total 7 columns):\n",
      " #   Column      Non-Null Count  Dtype  \n",
      "---  ------      --------------  -----  \n",
      " 0   วันเดือนปี  968 non-null    object \n",
      " 1   ล่าสุด      968 non-null    float64\n",
      " 2   ราคาเปิด    968 non-null    float64\n",
      " 3   สูงสุด      968 non-null    float64\n",
      " 4   ต่ำสุด      968 non-null    float64\n",
      " 5   ปริมาณ      968 non-null    object \n",
      " 6   % เปลี่ยน   968 non-null    object \n",
      "dtypes: float64(4), object(3)\n",
      "memory usage: 53.1+ KB\n"
     ]
    }
   ],
   "source": [
    "df.info()"
   ]
  },
  {
   "cell_type": "code",
   "execution_count": 49,
   "id": "0dad94b2",
   "metadata": {},
   "outputs": [],
   "source": [
    "# Extract day of the month from the 'วันเดือนปี' column\n",
    "df['Day_of_Month'] = pd.to_datetime(df['วันเดือนปี']).dt.day\n",
    "\n",
    "# Calculate average 'ล่าสุด' (Close Price) for each day of the month\n",
    "daily_avg_prices = df.groupby('Day_of_Month')['ล่าสุด'].mean()\n"
   ]
  },
  {
   "cell_type": "code",
   "execution_count": 50,
   "id": "119181d8",
   "metadata": {},
   "outputs": [
    {
     "name": "stdout",
     "output_type": "stream",
     "text": [
      "The lowest average Close Price occurs on Day 2 with an average price of 8.66\n"
     ]
    }
   ],
   "source": [
    "# Identify the day(s) with the lowest average 'ล่าสุด' (Close Price)\n",
    "lowest_avg_price_day = daily_avg_prices.idxmin()\n",
    "lowest_avg_price_value = daily_avg_prices.min()\n",
    "print(f\"The lowest average Close Price occurs on Day {lowest_avg_price_day} with an average price of {lowest_avg_price_value:.2f}\")\n"
   ]
  },
  {
   "cell_type": "code",
   "execution_count": 51,
   "id": "33393e36",
   "metadata": {},
   "outputs": [],
   "source": [
    "# Calculate average 'ล่าสุด' (Close Price) for each day of the month\n",
    "daily_avg_prices = df.groupby('Day_of_Month')['ล่าสุด'].mean()\n"
   ]
  },
  {
   "cell_type": "code",
   "execution_count": 52,
   "id": "213f94a0",
   "metadata": {},
   "outputs": [
    {
     "data": {
      "image/png": "[encoded data removed]",
      "text/plain": [
       "<Figure size 1000x600 with 1 Axes>"
      ]
     },
     "metadata": {},
     "output_type": "display_data"
    }
   ],
   "source": [
    "# Create a bar plot for daily average close prices\n",
    "plt.figure(figsize=(10, 6))\n",
    "daily_avg_prices.plot(kind='bar', color='skyblue', edgecolor='black')\n",
    "\n",
    "# Highlight the day with the lowest average close price\n",
    "lowest_avg_price_day = daily_avg_prices.idxmin()\n",
    "lowest_avg_price_value = daily_avg_prices.min()\n",
    "plt.annotate(f'Lowest Avg Price\\n({lowest_avg_price_value:.2f})', \n",
    "             xy=(lowest_avg_price_day - 0.2, lowest_avg_price_value + 0.01), \n",
    "             xytext=(lowest_avg_price_day - 1, lowest_avg_price_value + 0.05),\n",
    "             arrowprops=dict(facecolor='red', arrowstyle='->'))\n",
    "\n",
    "# Set plot title and labels\n",
    "plt.title('Daily Average Close Prices')\n",
    "plt.xlabel('Day of the Month')\n",
    "plt.ylabel('Average Close Price')\n",
    "\n",
    "# Display the plot\n",
    "plt.tight_layout()\n",
    "plt.grid(True)\n",
    "plt.show()\n"
   ]
  },
  {
   "cell_type": "code",
   "execution_count": 53,
   "id": "b742fc48",
   "metadata": {},
   "outputs": [
    {
     "name": "stdout",
     "output_type": "stream",
     "text": [
      "The highest average Close Price occurs on Day 14 with an average price of 8.90\n"
     ]
    }
   ],
   "source": [
    "# Calculate average 'ล่าสุด' (Close Price) for each day of the month\n",
    "daily_avg_prices = df.groupby('Day_of_Month')['ล่าสุด'].mean()\n",
    "\n",
    "# Identify the day with the highest average close price\n",
    "highest_avg_price_day = daily_avg_prices.idxmax()\n",
    "highest_avg_price_value = daily_avg_prices.max()\n",
    "\n",
    "print(f\"The highest average Close Price occurs on Day {highest_avg_price_day} with an average price of {highest_avg_price_value:.2f}\")\n"
   ]
  },
  {
   "cell_type": "markdown",
   "id": "dd3bb12f",
   "metadata": {},
   "source": [
    "### 2. Frequency Distribution the lowest price group-by Month"
   ]
  },
  {
   "cell_type": "code",
   "execution_count": 61,
   "id": "510f0d42",
   "metadata": {},
   "outputs": [
    {
     "name": "stdout",
     "output_type": "stream",
     "text": [
      "The optimal day with the lowest price score of 7 occurs on Day 30.\n"
     ]
    }
   ],
   "source": [
    "import pandas as pd\n",
    "\n",
    "# Load the dataset into a pandas DataFrame\n",
    "df = pd.read_csv('ราคาย้อนหลัง หุ้น BEM.csv')\n",
    "\n",
    "# Convert the 'วันเดือนปี' column to datetime format\n",
    "df['วันเดือนปี'] = pd.to_datetime(df['วันเดือนปี'], format=\"%m/%d/%Y\", dayfirst=True)\n",
    "\n",
    "# Extract day of the month and month\n",
    "df['Day_of_Month'] = df['วันเดือนปี'].dt.day\n",
    "df['Month'] = df['วันเดือนปี'].dt.to_period('M')\n",
    "\n",
    "# Calculate the lowest price day score\n",
    "lowest_price_days = df.groupby('Month').apply(lambda x: x.loc[x['ล่าสุด'].idxmin()]['Day_of_Month'])\n",
    "score = lowest_price_days.value_counts().sort_values(ascending=False)\n",
    "\n",
    "# Identify the optimal day with the highest score (most frequent lowest price day)\n",
    "optimal_day = score.idxmax()\n",
    "optimal_day_score = score.max()\n",
    "\n",
    "print(f\"The optimal day with the lowest price score of {optimal_day_score} occurs on Day {optimal_day}.\")\n"
   ]
  },
  {
   "cell_type": "code",
   "execution_count": 62,
   "id": "aae3257f",
   "metadata": {},
   "outputs": [
    {
     "name": "stdout",
     "output_type": "stream",
     "text": [
      "Frequency distribution of days with the lowest prices:\n",
      "30    7\n",
      "28    5\n",
      "29    4\n",
      "2     4\n",
      "17    4\n",
      "31    3\n",
      "9     3\n",
      "27    3\n",
      "7     2\n",
      "1     2\n",
      "10    2\n",
      "20    2\n",
      "22    1\n",
      "5     1\n",
      "4     1\n",
      "8     1\n",
      "16    1\n",
      "6     1\n",
      "3     1\n",
      "25    1\n",
      "Name: count, dtype: int64\n"
     ]
    }
   ],
   "source": [
    "# Group by month and find the day with the lowest closing price\n",
    "lowest_price_days = df.groupby('Month').apply(lambda x: x.loc[x['ล่าสุด'].idxmin()]['Day_of_Month'])\n",
    "\n",
    "# Calculate frequency distribution of days with lowest prices\n",
    "frequency_distribution = lowest_price_days.value_counts().sort_values(ascending=False)\n",
    "\n",
    "print(\"Frequency distribution of days with the lowest prices:\")\n",
    "print(frequency_distribution)"
   ]
  },
  {
   "cell_type": "markdown",
   "id": "f23bb5e4",
   "metadata": {},
   "source": [
    "### 3. Scoring Selection: score top 5 of Frequency Distribution and find the highest one"
   ]
  },
  {
   "cell_type": "markdown",
   "id": "b500236e",
   "metadata": {},
   "source": [
    "citeria: top 1: 5score , top 2: 4score , top 3: 3score , top 4: 2score , top 5: 1score"
   ]
  },
  {
   "cell_type": "code",
   "execution_count": 70,
   "id": "8db990f8",
   "metadata": {},
   "outputs": [
    {
     "name": "stdout",
     "output_type": "stream",
     "text": [
      "The best day(s) for DCA with the highest total score of 18 is/are: 30\n"
     ]
    }
   ],
   "source": [
    "\n",
    "# Extract day of the month and month\n",
    "df['Day_of_Month'] = df['วันเดือนปี'].dt.day\n",
    "df['Month'] = df['วันเดือนปี'].dt.to_period('M')\n",
    "\n",
    "# Find the most frequent lowest price day in each month\n",
    "most_frequent_lowest_days = (\n",
    "    df.groupby('Month')['Day_of_Month']\n",
    "    .apply(lambda x: x.value_counts().idxmax())\n",
    "    .reset_index(name='Day_of_Month')\n",
    ")\n",
    "\n",
    "# Calculate total score for each day based on frequency of being the lowest price day\n",
    "total_score = most_frequent_lowest_days['Day_of_Month'].value_counts().sort_index()\n",
    "\n",
    "# Identify the best day(s) with the highest total score\n",
    "best_days = total_score.idxmax()\n",
    "best_days_score = total_score.max()\n",
    "\n",
    "print(f\"The best day(s) for DCA with the highest total score of {best_days_score} is/are: {best_days}\")\n"
   ]
  },
  {
   "cell_type": "code",
   "execution_count": 71,
   "id": "34cf8f4b",
   "metadata": {},
   "outputs": [
    {
     "data": {
      "image/png": "[encoded data removed]",
      "text/plain": [
       "<Figure size 640x480 with 1 Axes>"
      ]
     },
     "metadata": {},
     "output_type": "display_data"
    }
   ],
   "source": [
    "\n",
    "# Plot the bar chart with adjusted width and x-axis ticks for days 1 to 31\n",
    "plt.bar(total_score.index, total_score.values, color='blue', width=0.8)\n",
    "plt.xlabel('Day of the Month')\n",
    "plt.ylabel('Total Score')\n",
    "plt.title('Total Score for Each Day (Based on Frequency of Being Lowest Price Day)')\n",
    "\n",
    "# Set the x-axis ticks to days 1 to 31\n",
    "plt.xticks(range(1, 32), rotation='vertical')\n",
    "\n",
    "plt.show()"
   ]
  },
  {
   "cell_type": "markdown",
   "id": "92002cbc",
   "metadata": {},
   "source": [
    "# Conclusion "
   ]
  },
  {
   "cell_type": "markdown",
   "id": "f7a6118a",
   "metadata": {},
   "source": [
    "we choose day 30 because day 30 has highest frequency of lowest price in each month which means their the highest chance that if we buy BEM on day 30, it's will be the lowest price. The result of scoring method was supporting day 30 and show that we can buy on the 31st instead of the 30th."
   ]
  },
  {
   "cell_type": "code",
   "execution_count": null,
   "id": "c1a24312",
   "metadata": {},
   "outputs": [],
   "source": []
  }
 ],
 "metadata": {
  "kernelspec": {
   "display_name": "Python 3 (ipykernel)",
   "language": "python",
   "name": "python3"
  },
  "language_info": {
   "codemirror_mode": {
    "name": "ipython",
    "version": 3
   },
   "file_extension": ".py",
   "mimetype": "text/x-python",
   "name": "python",
   "nbconvert_exporter": "python",
   "pygments_lexer": "ipython3",
   "version": "3.11.5"
  }
 },
 "nbformat": 4,
 "nbformat_minor": 5
}
